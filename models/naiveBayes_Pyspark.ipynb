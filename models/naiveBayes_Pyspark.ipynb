{
  "cells": [
    {
      "cell_type": "code",
      "execution_count": 1,
      "metadata": {
        "id": "JUNPLkyhd8bu"
      },
      "outputs": [
        {
          "name": "stdout",
          "output_type": "stream",
          "text": [
            "Requirement already satisfied: pyspark in c:\\users\\laptop\\appdata\\local\\packages\\pythonsoftwarefoundation.python.3.9_qbz5n2kfra8p0\\localcache\\local-packages\\python39\\site-packages (3.5.1)\n",
            "Requirement already satisfied: py4j==0.10.9.7 in c:\\users\\laptop\\appdata\\local\\packages\\pythonsoftwarefoundation.python.3.9_qbz5n2kfra8p0\\localcache\\local-packages\\python39\\site-packages (from pyspark) (0.10.9.7)\n"
          ]
        }
      ],
      "source": [
        "!pip install pyspark"
      ]
    },
    {
      "cell_type": "code",
      "execution_count": 2,
      "metadata": {
        "id": "qOU6h5eCdaZk"
      },
      "outputs": [],
      "source": [
        "import pandas as pd\n",
        "import numpy as np\n",
        "import matplotlib.pyplot as plt\n",
        "from sklearn.model_selection import train_test_split\n",
        "from sklearn.preprocessing import LabelEncoder\n",
        "from pyspark.sql import SparkSession\n",
        "from pyspark.conf import SparkConf\n",
        "from pyspark.ml.feature import VectorAssembler\n",
        "from pyspark.ml.classification import RandomForestClassifier\n",
        "from pyspark.ml.classification import NaiveBayes"
      ]
    },
    {
      "cell_type": "code",
      "execution_count": 3,
      "metadata": {
        "id": "JXxrIH8-daZl"
      },
      "outputs": [],
      "source": [
        "spark=SparkSession.builder\\\n",
        "    .master(\"local[*]\")\\\n",
        "    .appName(\"RandomForest\")\\\n",
        "    .getOrCreate()"
      ]
    },
    {
      "cell_type": "code",
      "execution_count": 4,
      "metadata": {
        "id": "vTIIm03ydaZm"
      },
      "outputs": [],
      "source": [
        "train = spark.read \\\n",
        "    .option(\"header\", True) \\\n",
        "    .option(\"inferSchema\", True) \\\n",
        "    .csv(\"../train.csv\")\n",
        "\n"
      ]
    },
    {
      "cell_type": "code",
      "execution_count": 5,
      "metadata": {
        "colab": {
          "base_uri": "https://localhost:8080/"
        },
        "id": "b39n0xnie6SF",
        "outputId": "3cc6acc6-dbef-45dd-fc92-5490b6ae43ea"
      },
      "outputs": [
        {
          "data": {
            "text/plain": [
              "DataFrame[_c0: int, id: int, Gender: string, Customer Type: string, Age: int, Type of Travel: string, Class: string, Flight Distance: int, Inflight wifi service: int, Departure/Arrival time convenient: int, Ease of Online booking: int, Gate location: int, Food and drink: int, Online boarding: int, Seat comfort: int, Inflight entertainment: int, On-board service: int, Leg room service: int, Baggage handling: int, Checkin service: int, Inflight service: int, Cleanliness: int, Departure Delay in Minutes: int, Arrival Delay in Minutes: double, satisfaction: string]"
            ]
          },
          "execution_count": 5,
          "metadata": {},
          "output_type": "execute_result"
        }
      ],
      "source": [
        "train"
      ]
    },
    {
      "cell_type": "code",
      "execution_count": 6,
      "metadata": {
        "colab": {
          "base_uri": "https://localhost:8080/",
          "height": 495
        },
        "id": "E_Zk41l7daZm",
        "outputId": "d1a1181a-4924-4f06-9167-71b30945821f"
      },
      "outputs": [
        {
          "data": {
            "text/html": [
              "<div>\n",
              "<style scoped>\n",
              "    .dataframe tbody tr th:only-of-type {\n",
              "        vertical-align: middle;\n",
              "    }\n",
              "\n",
              "    .dataframe tbody tr th {\n",
              "        vertical-align: top;\n",
              "    }\n",
              "\n",
              "    .dataframe thead th {\n",
              "        text-align: right;\n",
              "    }\n",
              "</style>\n",
              "<table border=\"1\" class=\"dataframe\">\n",
              "  <thead>\n",
              "    <tr style=\"text-align: right;\">\n",
              "      <th></th>\n",
              "      <th>Gender</th>\n",
              "      <th>Customer Type</th>\n",
              "      <th>Age</th>\n",
              "      <th>Type of Travel</th>\n",
              "      <th>Class</th>\n",
              "      <th>Flight Distance</th>\n",
              "      <th>Inflight wifi service</th>\n",
              "      <th>Departure/Arrival time convenient</th>\n",
              "      <th>Ease of Online booking</th>\n",
              "      <th>Gate location</th>\n",
              "      <th>...</th>\n",
              "      <th>Inflight entertainment</th>\n",
              "      <th>On-board service</th>\n",
              "      <th>Leg room service</th>\n",
              "      <th>Baggage handling</th>\n",
              "      <th>Checkin service</th>\n",
              "      <th>Inflight service</th>\n",
              "      <th>Cleanliness</th>\n",
              "      <th>Departure Delay in Minutes</th>\n",
              "      <th>Arrival Delay in Minutes</th>\n",
              "      <th>satisfaction</th>\n",
              "    </tr>\n",
              "  </thead>\n",
              "  <tbody>\n",
              "    <tr>\n",
              "      <th>0</th>\n",
              "      <td>1</td>\n",
              "      <td>0</td>\n",
              "      <td>6</td>\n",
              "      <td>1</td>\n",
              "      <td>2</td>\n",
              "      <td>358</td>\n",
              "      <td>3</td>\n",
              "      <td>4</td>\n",
              "      <td>3</td>\n",
              "      <td>1</td>\n",
              "      <td>...</td>\n",
              "      <td>5</td>\n",
              "      <td>4</td>\n",
              "      <td>3</td>\n",
              "      <td>3</td>\n",
              "      <td>4</td>\n",
              "      <td>5</td>\n",
              "      <td>5</td>\n",
              "      <td>25</td>\n",
              "      <td>18</td>\n",
              "      <td>0</td>\n",
              "    </tr>\n",
              "    <tr>\n",
              "      <th>1</th>\n",
              "      <td>1</td>\n",
              "      <td>1</td>\n",
              "      <td>18</td>\n",
              "      <td>0</td>\n",
              "      <td>0</td>\n",
              "      <td>144</td>\n",
              "      <td>3</td>\n",
              "      <td>2</td>\n",
              "      <td>3</td>\n",
              "      <td>3</td>\n",
              "      <td>...</td>\n",
              "      <td>1</td>\n",
              "      <td>1</td>\n",
              "      <td>5</td>\n",
              "      <td>2</td>\n",
              "      <td>1</td>\n",
              "      <td>4</td>\n",
              "      <td>1</td>\n",
              "      <td>1</td>\n",
              "      <td>6</td>\n",
              "      <td>0</td>\n",
              "    </tr>\n",
              "    <tr>\n",
              "      <th>2</th>\n",
              "      <td>0</td>\n",
              "      <td>0</td>\n",
              "      <td>19</td>\n",
              "      <td>0</td>\n",
              "      <td>0</td>\n",
              "      <td>994</td>\n",
              "      <td>2</td>\n",
              "      <td>2</td>\n",
              "      <td>2</td>\n",
              "      <td>2</td>\n",
              "      <td>...</td>\n",
              "      <td>5</td>\n",
              "      <td>4</td>\n",
              "      <td>3</td>\n",
              "      <td>3</td>\n",
              "      <td>4</td>\n",
              "      <td>4</td>\n",
              "      <td>5</td>\n",
              "      <td>0</td>\n",
              "      <td>0</td>\n",
              "      <td>1</td>\n",
              "    </tr>\n",
              "    <tr>\n",
              "      <th>3</th>\n",
              "      <td>0</td>\n",
              "      <td>0</td>\n",
              "      <td>18</td>\n",
              "      <td>0</td>\n",
              "      <td>0</td>\n",
              "      <td>446</td>\n",
              "      <td>2</td>\n",
              "      <td>5</td>\n",
              "      <td>5</td>\n",
              "      <td>5</td>\n",
              "      <td>...</td>\n",
              "      <td>2</td>\n",
              "      <td>2</td>\n",
              "      <td>5</td>\n",
              "      <td>2</td>\n",
              "      <td>1</td>\n",
              "      <td>4</td>\n",
              "      <td>2</td>\n",
              "      <td>11</td>\n",
              "      <td>9</td>\n",
              "      <td>0</td>\n",
              "    </tr>\n",
              "    <tr>\n",
              "      <th>4</th>\n",
              "      <td>1</td>\n",
              "      <td>0</td>\n",
              "      <td>54</td>\n",
              "      <td>0</td>\n",
              "      <td>0</td>\n",
              "      <td>124</td>\n",
              "      <td>3</td>\n",
              "      <td>3</td>\n",
              "      <td>3</td>\n",
              "      <td>3</td>\n",
              "      <td>...</td>\n",
              "      <td>3</td>\n",
              "      <td>3</td>\n",
              "      <td>4</td>\n",
              "      <td>3</td>\n",
              "      <td>3</td>\n",
              "      <td>3</td>\n",
              "      <td>3</td>\n",
              "      <td>0</td>\n",
              "      <td>0</td>\n",
              "      <td>1</td>\n",
              "    </tr>\n",
              "    <tr>\n",
              "      <th>...</th>\n",
              "      <td>...</td>\n",
              "      <td>...</td>\n",
              "      <td>...</td>\n",
              "      <td>...</td>\n",
              "      <td>...</td>\n",
              "      <td>...</td>\n",
              "      <td>...</td>\n",
              "      <td>...</td>\n",
              "      <td>...</td>\n",
              "      <td>...</td>\n",
              "      <td>...</td>\n",
              "      <td>...</td>\n",
              "      <td>...</td>\n",
              "      <td>...</td>\n",
              "      <td>...</td>\n",
              "      <td>...</td>\n",
              "      <td>...</td>\n",
              "      <td>...</td>\n",
              "      <td>...</td>\n",
              "      <td>...</td>\n",
              "      <td>...</td>\n",
              "    </tr>\n",
              "    <tr>\n",
              "      <th>103899</th>\n",
              "      <td>0</td>\n",
              "      <td>1</td>\n",
              "      <td>16</td>\n",
              "      <td>0</td>\n",
              "      <td>1</td>\n",
              "      <td>102</td>\n",
              "      <td>2</td>\n",
              "      <td>1</td>\n",
              "      <td>2</td>\n",
              "      <td>3</td>\n",
              "      <td>...</td>\n",
              "      <td>2</td>\n",
              "      <td>3</td>\n",
              "      <td>1</td>\n",
              "      <td>3</td>\n",
              "      <td>2</td>\n",
              "      <td>3</td>\n",
              "      <td>2</td>\n",
              "      <td>3</td>\n",
              "      <td>0</td>\n",
              "      <td>0</td>\n",
              "    </tr>\n",
              "    <tr>\n",
              "      <th>103900</th>\n",
              "      <td>1</td>\n",
              "      <td>0</td>\n",
              "      <td>42</td>\n",
              "      <td>0</td>\n",
              "      <td>0</td>\n",
              "      <td>2143</td>\n",
              "      <td>4</td>\n",
              "      <td>4</td>\n",
              "      <td>4</td>\n",
              "      <td>4</td>\n",
              "      <td>...</td>\n",
              "      <td>5</td>\n",
              "      <td>5</td>\n",
              "      <td>5</td>\n",
              "      <td>4</td>\n",
              "      <td>5</td>\n",
              "      <td>5</td>\n",
              "      <td>4</td>\n",
              "      <td>0</td>\n",
              "      <td>0</td>\n",
              "      <td>1</td>\n",
              "    </tr>\n",
              "    <tr>\n",
              "      <th>103901</th>\n",
              "      <td>1</td>\n",
              "      <td>1</td>\n",
              "      <td>23</td>\n",
              "      <td>0</td>\n",
              "      <td>0</td>\n",
              "      <td>1791</td>\n",
              "      <td>1</td>\n",
              "      <td>1</td>\n",
              "      <td>1</td>\n",
              "      <td>3</td>\n",
              "      <td>...</td>\n",
              "      <td>4</td>\n",
              "      <td>3</td>\n",
              "      <td>2</td>\n",
              "      <td>3</td>\n",
              "      <td>5</td>\n",
              "      <td>5</td>\n",
              "      <td>4</td>\n",
              "      <td>7</td>\n",
              "      <td>14</td>\n",
              "      <td>0</td>\n",
              "    </tr>\n",
              "    <tr>\n",
              "      <th>103902</th>\n",
              "      <td>0</td>\n",
              "      <td>1</td>\n",
              "      <td>15</td>\n",
              "      <td>0</td>\n",
              "      <td>1</td>\n",
              "      <td>860</td>\n",
              "      <td>1</td>\n",
              "      <td>1</td>\n",
              "      <td>1</td>\n",
              "      <td>5</td>\n",
              "      <td>...</td>\n",
              "      <td>1</td>\n",
              "      <td>4</td>\n",
              "      <td>5</td>\n",
              "      <td>0</td>\n",
              "      <td>5</td>\n",
              "      <td>4</td>\n",
              "      <td>1</td>\n",
              "      <td>0</td>\n",
              "      <td>0</td>\n",
              "      <td>0</td>\n",
              "    </tr>\n",
              "    <tr>\n",
              "      <th>103903</th>\n",
              "      <td>1</td>\n",
              "      <td>0</td>\n",
              "      <td>20</td>\n",
              "      <td>0</td>\n",
              "      <td>0</td>\n",
              "      <td>1519</td>\n",
              "      <td>1</td>\n",
              "      <td>3</td>\n",
              "      <td>3</td>\n",
              "      <td>3</td>\n",
              "      <td>...</td>\n",
              "      <td>1</td>\n",
              "      <td>1</td>\n",
              "      <td>1</td>\n",
              "      <td>3</td>\n",
              "      <td>4</td>\n",
              "      <td>3</td>\n",
              "      <td>1</td>\n",
              "      <td>0</td>\n",
              "      <td>0</td>\n",
              "      <td>0</td>\n",
              "    </tr>\n",
              "  </tbody>\n",
              "</table>\n",
              "<p>103904 rows × 23 columns</p>\n",
              "</div>"
            ],
            "text/plain": [
              "        Gender  Customer Type  Age  Type of Travel  Class  Flight Distance  \\\n",
              "0            1              0    6               1      2              358   \n",
              "1            1              1   18               0      0              144   \n",
              "2            0              0   19               0      0              994   \n",
              "3            0              0   18               0      0              446   \n",
              "4            1              0   54               0      0              124   \n",
              "...        ...            ...  ...             ...    ...              ...   \n",
              "103899       0              1   16               0      1              102   \n",
              "103900       1              0   42               0      0             2143   \n",
              "103901       1              1   23               0      0             1791   \n",
              "103902       0              1   15               0      1              860   \n",
              "103903       1              0   20               0      0             1519   \n",
              "\n",
              "        Inflight wifi service  Departure/Arrival time convenient  \\\n",
              "0                           3                                  4   \n",
              "1                           3                                  2   \n",
              "2                           2                                  2   \n",
              "3                           2                                  5   \n",
              "4                           3                                  3   \n",
              "...                       ...                                ...   \n",
              "103899                      2                                  1   \n",
              "103900                      4                                  4   \n",
              "103901                      1                                  1   \n",
              "103902                      1                                  1   \n",
              "103903                      1                                  3   \n",
              "\n",
              "        Ease of Online booking  Gate location  ...  Inflight entertainment  \\\n",
              "0                            3              1  ...                       5   \n",
              "1                            3              3  ...                       1   \n",
              "2                            2              2  ...                       5   \n",
              "3                            5              5  ...                       2   \n",
              "4                            3              3  ...                       3   \n",
              "...                        ...            ...  ...                     ...   \n",
              "103899                       2              3  ...                       2   \n",
              "103900                       4              4  ...                       5   \n",
              "103901                       1              3  ...                       4   \n",
              "103902                       1              5  ...                       1   \n",
              "103903                       3              3  ...                       1   \n",
              "\n",
              "        On-board service  Leg room service  Baggage handling  Checkin service  \\\n",
              "0                      4                 3                 3                4   \n",
              "1                      1                 5                 2                1   \n",
              "2                      4                 3                 3                4   \n",
              "3                      2                 5                 2                1   \n",
              "4                      3                 4                 3                3   \n",
              "...                  ...               ...               ...              ...   \n",
              "103899                 3                 1                 3                2   \n",
              "103900                 5                 5                 4                5   \n",
              "103901                 3                 2                 3                5   \n",
              "103902                 4                 5                 0                5   \n",
              "103903                 1                 1                 3                4   \n",
              "\n",
              "        Inflight service  Cleanliness  Departure Delay in Minutes  \\\n",
              "0                      5            5                          25   \n",
              "1                      4            1                           1   \n",
              "2                      4            5                           0   \n",
              "3                      4            2                          11   \n",
              "4                      3            3                           0   \n",
              "...                  ...          ...                         ...   \n",
              "103899                 3            2                           3   \n",
              "103900                 5            4                           0   \n",
              "103901                 5            4                           7   \n",
              "103902                 4            1                           0   \n",
              "103903                 3            1                           0   \n",
              "\n",
              "        Arrival Delay in Minutes  satisfaction  \n",
              "0                             18             0  \n",
              "1                              6             0  \n",
              "2                              0             1  \n",
              "3                              9             0  \n",
              "4                              0             1  \n",
              "...                          ...           ...  \n",
              "103899                         0             0  \n",
              "103900                         0             1  \n",
              "103901                        14             0  \n",
              "103902                         0             0  \n",
              "103903                         0             0  \n",
              "\n",
              "[103904 rows x 23 columns]"
            ]
          },
          "execution_count": 6,
          "metadata": {},
          "output_type": "execute_result"
        }
      ],
      "source": [
        "\n",
        "cols_to_drop = ['_c0','id']\n",
        "train = train.drop(*cols_to_drop)\n",
        "train = train.toPandas()\n",
        "df = pd.DataFrame(train)\n",
        "\n",
        "# Apply LabelEncoder to each column to convert string to num\n",
        "X = LabelEncoder()\n",
        "X = df.apply(X.fit_transform)\n",
        "\n",
        "# Print the transformed DataFrame\n",
        "X"
      ]
    },
    {
      "cell_type": "code",
      "execution_count": 7,
      "metadata": {
        "colab": {
          "base_uri": "https://localhost:8080/"
        },
        "id": "OwuhringdaZm",
        "outputId": "aef5b117-13fc-4b78-858b-09462a953261"
      },
      "outputs": [
        {
          "name": "stdout",
          "output_type": "stream",
          "text": [
            "Label used:  satisfaction\n",
            "Features used:  ['Age', 'Checkin service', 'Food and drink', 'Type of Travel', 'Seat comfort', 'Gender', 'On-board service', 'Class', 'Leg room service', 'Departure Delay in Minutes', 'Arrival Delay in Minutes', 'Inflight service', 'Flight Distance', 'Ease of Online booking', 'Baggage handling', 'Departure/Arrival time convenient', 'Online boarding', 'Customer Type', 'Inflight entertainment', 'Cleanliness', 'Inflight wifi service', 'Gate location']\n"
          ]
        }
      ],
      "source": [
        "X = spark.createDataFrame(X)\n",
        "LABEL_COL = \"satisfaction\"\n",
        "FEATURES_COL = list(set(X.columns) - set([LABEL_COL]))\n",
        "print(\"Label used: \", LABEL_COL)\n",
        "print(\"Features used: \", FEATURES_COL)"
      ]
    },
    {
      "cell_type": "code",
      "execution_count": 8,
      "metadata": {
        "colab": {
          "base_uri": "https://localhost:8080/"
        },
        "id": "NP1IX-thdaZm",
        "outputId": "e836f25c-9e10-4b46-a7d4-d0b563763a9a"
      },
      "outputs": [
        {
          "data": {
            "text/plain": [
              "DataFrame[Gender: bigint, Customer Type: bigint, Age: bigint, Type of Travel: bigint, Class: bigint, Flight Distance: bigint, Inflight wifi service: bigint, Departure/Arrival time convenient: bigint, Ease of Online booking: bigint, Gate location: bigint, Food and drink: bigint, Online boarding: bigint, Seat comfort: bigint, Inflight entertainment: bigint, On-board service: bigint, Leg room service: bigint, Baggage handling: bigint, Checkin service: bigint, Inflight service: bigint, Cleanliness: bigint, Departure Delay in Minutes: bigint, Arrival Delay in Minutes: bigint, satisfaction: bigint, features: vector]"
            ]
          },
          "execution_count": 8,
          "metadata": {},
          "output_type": "execute_result"
        }
      ],
      "source": [
        "assembler = VectorAssembler(inputCols=FEATURES_COL, outputCol=\"features\")\n",
        "df = assembler.transform(X)\n",
        "df"
      ]
    },
    {
      "cell_type": "code",
      "execution_count": 9,
      "metadata": {
        "colab": {
          "base_uri": "https://localhost:8080/"
        },
        "id": "CdR46r57daZm",
        "outputId": "fb712050-0f0e-4b9e-b82b-27273e8d1655"
      },
      "outputs": [
        {
          "name": "stdout",
          "output_type": "stream",
          "text": [
            "Training Accuracy: 0.6068678780412701\n"
          ]
        }
      ],
      "source": [
        "#create rf model\n",
        "# rf = RandomForestClassifier(labelCol=LABEL_COL, featuresCol=\"features\", numTrees=80, maxDepth=30, featureSubsetStrategy=\"log2\", seed=42)\n",
        "# rf = NaiveBayes(labelCol=LABEL_COL, featuresCol=\"features\",smoothing=1.0, modelType=\"multinomial\")\n",
        "rf = NaiveBayes(labelCol=LABEL_COL, featuresCol=\"features\", modelType=\"multinomial\")\n",
        "\n",
        "#fit the model\n",
        "model = rf.fit(df)\n",
        "\n",
        "# Apply the model to generate predictions\n",
        "predictions = model.transform(df)\n",
        "\n",
        "# Select the \"satisfaction\" and \"prediction\" columns\n",
        "selected_columns = predictions.select(\"satisfaction\", \"prediction\")\n",
        "\n",
        "# Convert the DataFrame to an RDD\n",
        "rdd = selected_columns.rdd\n",
        "\n",
        "# Map the RDD to calculate 1.0 for correct predictions and 0.0 for incorrect predictions\n",
        "accuracy_values = rdd.map(lambda x: 1.0 if x[0] == x[1] else 0.0)\n",
        "\n",
        "# Calculate the mean value of the accuracy values\n",
        "accuracy = accuracy_values.mean()\n",
        "\n",
        "# Print the training accuracy\n",
        "print(\"Training Accuracy:\", accuracy)"
      ]
    },
    {
      "cell_type": "code",
      "execution_count": 10,
      "metadata": {
        "id": "kCNJ6xU6wuTw"
      },
      "outputs": [],
      "source": [
        "df_val = spark.read \\\n",
        "    .option(\"header\", True) \\\n",
        "    .option(\"inferSchema\", True) \\\n",
        "    .csv(\"../test.csv\")"
      ]
    },
    {
      "cell_type": "code",
      "execution_count": 11,
      "metadata": {
        "id": "xSP_FQMGxq3d"
      },
      "outputs": [],
      "source": [
        "\n",
        "cols_to_drop = ['_c0','id']\n",
        "df_val = df_val.drop(*cols_to_drop)\n",
        "\n",
        "df_val = df_val.toPandas()\n",
        "df = pd.DataFrame(df_val)\n",
        "\n",
        "# Apply LabelEncoder to each column\n",
        "X = LabelEncoder()\n",
        "X = df.apply(X.fit_transform)\n",
        "\n",
        "# Print the transformed DataFrame\n",
        "X\n",
        "X = spark.createDataFrame(X)\n",
        "assembler = VectorAssembler(inputCols=FEATURES_COL, outputCol=\"features\")\n",
        "df_val = assembler.transform(X)"
      ]
    },
    {
      "cell_type": "code",
      "execution_count": 12,
      "metadata": {
        "colab": {
          "base_uri": "https://localhost:8080/"
        },
        "id": "w-6IgtRyzWHW",
        "outputId": "6fe187f2-249c-4423-e006-b99fe0593d48"
      },
      "outputs": [
        {
          "name": "stdout",
          "output_type": "stream",
          "text": [
            "Validation Accuracy: 0.6082537727132741\n"
          ]
        }
      ],
      "source": [
        "# Apply the model to generate predictions on the validation dataset\n",
        "predictions_val = model.transform(df_val)\n",
        "\n",
        "# Select the \"satisfaction\" and \"prediction\" columns\n",
        "selected_columns_val = predictions_val.select(\"satisfaction\", \"prediction\")\n",
        "\n",
        "# Convert the DataFrame to an RDD\n",
        "rdd_val = selected_columns_val.rdd\n",
        "\n",
        "# Map the RDD to calculate 1.0 for correct predictions and 0.0 for incorrect predictions\n",
        "accuracy_values_val = rdd_val.map(lambda x: 1.0 if x[0] == x[1] else 0.0)\n",
        "\n",
        "# Calculate the mean value of the accuracy values\n",
        "accuracy_val = accuracy_values_val.mean()\n",
        "\n",
        "# Print the validation accuracy\n",
        "print(\"Validation Accuracy:\", accuracy_val)"
      ]
    }
  ],
  "metadata": {
    "colab": {
      "provenance": []
    },
    "kernelspec": {
      "display_name": "Python 3",
      "name": "python3"
    },
    "language_info": {
      "codemirror_mode": {
        "name": "ipython",
        "version": 3
      },
      "file_extension": ".py",
      "mimetype": "text/x-python",
      "name": "python",
      "nbconvert_exporter": "python",
      "pygments_lexer": "ipython3",
      "version": "3.9.13"
    }
  },
  "nbformat": 4,
  "nbformat_minor": 0
}
